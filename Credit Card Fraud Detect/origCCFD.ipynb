{
  "cells": [
    {
      "cell_type": "markdown",
      "metadata": {
        "id": "view-in-github",
        "colab_type": "text"
      },
      "source": [
        "<a href=\"https://colab.research.google.com/github/maryisangediok/Fraud-Detection/blob/main/origCCFD.ipynb\" target=\"_parent\"><img src=\"https://colab.research.google.com/assets/colab-badge.svg\" alt=\"Open In Colab\"/></a>"
      ]
    },
    {
      "cell_type": "markdown",
      "metadata": {
        "id": "B7FC8ysZCnTb"
      },
      "source": [
        "# Credit Card Fraud Detection"
      ]
    },
    {
      "cell_type": "markdown",
      "metadata": {
        "id": "jpdrK0OXZb91"
      },
      "source": [
        "## Train and test using original imbalanced dataset"
      ]
    },
    {
      "cell_type": "markdown",
      "metadata": {
        "id": "3s4NYQz9-3p4"
      },
      "source": [
        "# Google Drive Access Setup"
      ]
    },
    {
      "cell_type": "code",
      "execution_count": null,
      "metadata": {
        "colab": {
          "base_uri": "https://localhost:8080/"
        },
        "id": "Cd6Vt7bef5QZ",
        "outputId": "9b6f1f86-512c-4761-81d8-addf94bf5894"
      },
      "outputs": [
        {
          "output_type": "stream",
          "name": "stdout",
          "text": [
            "Mounted at /content/drive\n"
          ]
        }
      ],
      "source": [
        "from google.colab import drive\n",
        "drive.mount('/content/drive')"
      ]
    },
    {
      "cell_type": "code",
      "execution_count": null,
      "metadata": {
        "id": "4unbZL0zeLWb"
      },
      "outputs": [],
      "source": [
        "#import libraries\n",
        "import numpy as np\n",
        "import pandas as pd\n",
        "import sys, os\n",
        "from datetime import datetime\n",
        "import time\n",
        "from sklearn.model_selection import train_test_split\n",
        "from sklearn.preprocessing import StandardScaler\n",
        "import sklearn\n",
        "from sklearn.model_selection import RandomizedSearchCV \n",
        "from sklearn.model_selection import StratifiedShuffleSplit \n",
        "from xgboost import XGBClassifier\n",
        "import xgboost\n",
        "from sklearn import metrics\n",
        "from sklearn.metrics import classification_report\n",
        "from sklearn.metrics import confusion_matrix, average_precision_score, precision_recall_curve\n",
        "from sklearn.metrics import auc, roc_curve, roc_auc_score, RocCurveDisplay\n",
        "\n",
        "from imblearn.over_sampling import SMOTE\n",
        "from imblearn.over_sampling import ADASYN\n",
        "from imblearn.under_sampling import RandomUnderSampler\n",
        "import matplotlib.pyplot as plt\n",
        "import seaborn as sns\n"
      ]
    },
    {
      "cell_type": "markdown",
      "metadata": {
        "id": "nULDnPYc86J5"
      },
      "source": [
        "# **Data Preps**"
      ]
    },
    {
      "cell_type": "code",
      "execution_count": null,
      "metadata": {
        "id": "ktPYh01ggxN-"
      },
      "outputs": [],
      "source": [
        "# Read the CSV file\n",
        "data_path = '/content/drive/MyDrive/creditcard/creditcard.csv'\n",
        "data = pd.read_csv(data_path)"
      ]
    },
    {
      "cell_type": "code",
      "source": [
        "# Normalize Amount\n",
        "data['normAmount'] = StandardScaler().fit_transform(np.array(data['Amount']).reshape(-1,1))\n",
        "data['normTime'] = StandardScaler().fit_transform(np.array(data['Time']).reshape(-1,1))\n",
        "\n",
        "# Now dropping Time and Amount as they'll be irrelevant for our prediction\n",
        "data = data.drop(['Amount', 'Time'], axis = 1)"
      ],
      "metadata": {
        "id": "DytZdPnYhXDz"
      },
      "execution_count": null,
      "outputs": []
    },
    {
      "cell_type": "code",
      "execution_count": null,
      "metadata": {
        "id": "zpc6AFW_XvIR"
      },
      "outputs": [],
      "source": [
        "# Separate labels from features\n",
        "X = data.loc[:,data.columns!='Class']\n",
        "y = data['Class']\n",
        "# Split train and test dataset\n",
        "X_train, X_test, y_train, y_test = train_test_split(X, y, test_size=0.2, stratify=y, random_state=10)"
      ]
    },
    {
      "cell_type": "code",
      "execution_count": null,
      "metadata": {
        "colab": {
          "base_uri": "https://localhost:8080/"
        },
        "id": "pFNuWWwBZX1t",
        "outputId": "cd8788ed-3015-4b22-e7ff-88d05c3e7bca"
      },
      "outputs": [
        {
          "output_type": "stream",
          "name": "stdout",
          "text": [
            "(227845, 30) (394,)\n"
          ]
        }
      ],
      "source": [
        "print(X_train.shape, y_train[y==1].shape)"
      ]
    },
    {
      "cell_type": "code",
      "execution_count": null,
      "metadata": {
        "colab": {
          "base_uri": "https://localhost:8080/"
        },
        "id": "D3a0Jm-faxov",
        "outputId": "897ca8be-da52-4aef-d335-ef114a4cfd85"
      },
      "outputs": [
        {
          "output_type": "stream",
          "name": "stdout",
          "text": [
            "Proportion of fraudulent transaction in the training set is 0.001729245759178389\n"
          ]
        }
      ],
      "source": [
        "print(f\"Proportion of fraudulent transaction in the training set is {394/227845}\")"
      ]
    },
    {
      "cell_type": "code",
      "execution_count": null,
      "metadata": {
        "colab": {
          "base_uri": "https://localhost:8080/"
        },
        "id": "1N-WyDYkaWao",
        "outputId": "10f19af3-6906-4b92-91f1-2723b2bb8bed"
      },
      "outputs": [
        {
          "output_type": "stream",
          "name": "stdout",
          "text": [
            "(56962, 30) (98,)\n"
          ]
        }
      ],
      "source": [
        "print(X_test.shape, y_test[y==1].shape)"
      ]
    },
    {
      "cell_type": "code",
      "execution_count": null,
      "metadata": {
        "colab": {
          "base_uri": "https://localhost:8080/"
        },
        "id": "qfUH2B5kbH2Z",
        "outputId": "8f800cc8-e803-4111-be9a-bce554cea2d3"
      },
      "outputs": [
        {
          "output_type": "stream",
          "name": "stdout",
          "text": [
            "Proportion of fraudulent transaction in the test set is 0.0017204452090867595\n"
          ]
        }
      ],
      "source": [
        "print(f\"Proportion of fraudulent transaction in the test set is {98/56962}\")"
      ]
    },
    {
      "cell_type": "code",
      "source": [
        "r_ = float(np.sum(y==0)) / np.sum(y==1)\n",
        "ratio = np.sqrt(np.sum(y==0)) / np.sum(y==1)\n",
        "#scale_pos_weight = sqrt(count(negative examples)/count(Positive examples)) #since dataset is extremely unbalanced, using a more conservative ratio"
      ],
      "metadata": {
        "id": "0vmJN_ndqXCF"
      },
      "execution_count": null,
      "outputs": []
    },
    {
      "cell_type": "markdown",
      "metadata": {
        "id": "x7ddrLPH_F4-"
      },
      "source": [
        "# Train Model"
      ]
    },
    {
      "cell_type": "code",
      "execution_count": null,
      "metadata": {
        "id": "kxG0JDlu7I9h"
      },
      "outputs": [],
      "source": [
        "def fit_model_and_get_predictions(classifier, X_train, y_train, X_test, y_test,\n",
        "                                  scale=True):\n",
        "\n",
        "    # We first train the classifier using the `fit` method, and pass as arguments the input and output features\n",
        "    start_time=time.time()\n",
        "    classifier.fit(X_train, y_train)\n",
        "    training_execution_time=time.time()-start_time\n",
        "\n",
        "    # We then get the predictions on the training and test data using the `predict_proba` method\n",
        "    # The predictions are returned as a numpy array, that provides the probability of fraud for each transaction \n",
        "    start_time=time.time()\n",
        "    predictions_test=classifier.predict_proba(X_test)[:,1]\n",
        "    prediction_execution_time=time.time()-start_time\n",
        "    \n",
        "    predictions_train=classifier.predict_proba(X_train)[:,1]\n",
        "\n",
        "    # The result is returned as a dictionary containing the fitted models, \n",
        "    # and the predictions on the training and test sets\n",
        "    model_and_predictions_dictionary = {'classifier': classifier,\n",
        "                                        'predictions_test': predictions_test,\n",
        "                                        'predictions_train': predictions_train,\n",
        "                                        'training_execution_time': training_execution_time,\n",
        "                                        'prediction_execution_time': prediction_execution_time\n",
        "                                       }\n",
        "    \n",
        "    return model_and_predictions_dictionary"
      ]
    },
    {
      "cell_type": "code",
      "execution_count": null,
      "metadata": {
        "colab": {
          "base_uri": "https://localhost:8080/"
        },
        "id": "6t_VCM3A2DFr",
        "outputId": "6082a028-f1d9-400b-9f9c-22b40dd1be66"
      },
      "outputs": [
        {
          "output_type": "stream",
          "name": "stdout",
          "text": [
            "Time to fit the Logistic regression model: 4.62\n",
            "Time to fit the Decision tree model: 16.16\n",
            "Time to fit the Random forest model: 103.48\n",
            "Time to fit the XGBoost model: 150.84\n"
          ]
        }
      ],
      "source": [
        "classifiers_dictionary={'Logistic regression':sklearn.linear_model.LogisticRegression(solver='lbfgs',\n",
        "                                                                                      penalty='l2',\n",
        "                                                                                      max_iter=100,\n",
        "                                                                                      #class_weight=ratio,\n",
        "                                                                                      C=3,\n",
        "                                                                                      random_state=0), \n",
        "                        'Decision tree':sklearn.tree.DecisionTreeClassifier(criterion='entropy',\n",
        "                                                                            random_state=0), \n",
        "                        'Random forest':sklearn.ensemble.RandomForestClassifier(max_depth=12,\n",
        "                                                                                n_estimators=50,\n",
        "                                                                                oob_score=True,\n",
        "                                                                                warm_start=True,\n",
        "                                                                                random_state=0),\n",
        "                        'XGBoost':xgboost.XGBClassifier(max_depth=11,\n",
        "                                                        n_estimators=100,\n",
        "                                                        learning_rate=0.1,\n",
        "                                                        gamma=0.3,\n",
        "                                                        scale_pos_weight=ratio,\n",
        "                                                        colsample_bytree=0.9,\n",
        "                                                        random_sate=0),\n",
        "                       }\n",
        "\n",
        "fitted_models_and_predictions_dictionary={}\n",
        "\n",
        "for classifier_name in classifiers_dictionary:\n",
        "  start_time=time.time()\n",
        "  model_and_predictions = fit_model_and_get_predictions(classifiers_dictionary[classifier_name], X_train, y_train, X_test, y_test)\n",
        "  fitted_models_and_predictions_dictionary[classifier_name]=model_and_predictions\n",
        "\n",
        "  print(\"Time to fit the \"+classifier_name+\" model: \"+str(round(time.time()-start_time,2)))\n",
        "  fitted_models_and_predictions_dictionary[classifier_name]=model_and_predictions"
      ]
    },
    {
      "cell_type": "code",
      "execution_count": null,
      "metadata": {
        "id": "-cVoYgF_8uVL"
      },
      "outputs": [],
      "source": [
        "%%capture\n",
        "def get_template_roc_curve(ax, title,fs,random=True):\n",
        "    \n",
        "    ax.set_title(title, fontsize=fs)\n",
        "    ax.set_xlim([-0.01, 1.01])\n",
        "    ax.set_ylim([-0.01, 1.01])\n",
        "    \n",
        "    ax.set_xlabel('False Positive Rate', fontsize=fs)\n",
        "    ax.set_ylabel('True Positive Rate', fontsize=fs)\n",
        "    \n",
        "    if random:\n",
        "        ax.plot([0, 1], [0, 1],'r--',label=\"AUC ROC Random = 0.5\")"
      ]
    },
    {
      "cell_type": "code",
      "execution_count": null,
      "metadata": {
        "id": "-sUNiVC5-eso"
      },
      "outputs": [],
      "source": [
        "%%capture\n",
        "roc_curve, ax = plt.subplots(1, 1, figsize=(7,6))\n",
        "\n",
        "cmap = plt.get_cmap('jet')\n",
        "colors={'Logistic regression':cmap(0),\n",
        "        'Decision tree':cmap(250),\n",
        "        'Random forest':cmap(70),\n",
        "        'XGBoost':cmap(40)}\n",
        "\n",
        "get_template_roc_curve(ax,title='Receiver Operating Characteristic (ROC) Curve\\nTest data',fs=15)\n",
        "    \n",
        "for classifier_name in classifiers_dictionary:\n",
        "    \n",
        "    model_and_predictions=fitted_models_and_predictions_dictionary[classifier_name]\n",
        "\n",
        "    FPR_list, TPR_list, threshold = metrics.roc_curve(y_test, model_and_predictions['predictions_test'])\n",
        "    ROC_AUC = metrics.auc(FPR_list, TPR_list)\n",
        "\n",
        "    ax.plot(FPR_list, TPR_list, 'b', color=colors[classifier_name], label = 'AUC ROC {0}= {1:0.3f}'.format(classifier_name,ROC_AUC))\n",
        "    #ax.legend(loc = 'upper left',bbox_to_anchor=(1.05, 1))\n",
        "    ax.legend(loc = 'best')\n",
        "\n",
        "plt.subplots_adjust(wspace=0.5, hspace=0.8)"
      ]
    },
    {
      "cell_type": "code",
      "execution_count": null,
      "metadata": {
        "colab": {
          "base_uri": "https://localhost:8080/",
          "height": 428
        },
        "id": "d42ZjEZm8z8q",
        "outputId": "2de3c947-a0fb-4e9f-9289-1cab634cac1f"
      },
      "outputs": [
        {
          "output_type": "execute_result",
          "data": {
            "text/plain": [
              "<Figure size 504x432 with 1 Axes>"
            ],
            "image/png": "[encoded data removed]"
          },
          "metadata": {},
          "execution_count": 15
        }
      ],
      "source": [
        "roc_curve"
      ]
    },
    {
      "cell_type": "code",
      "execution_count": null,
      "metadata": {
        "id": "Bjq_bepON9Sr"
      },
      "outputs": [],
      "source": [
        "def compute_AP(precision, recall):    \n",
        "    AP = 0\n",
        "    n_thresholds = len(precision)\n",
        "    for i in range(1, n_thresholds):\n",
        "      if recall[i]-recall[i-1]>=0:\n",
        "        AP = AP+(recall[i]-recall[i-1])*precision[i]\n",
        "    return AP"
      ]
    },
    {
      "cell_type": "code",
      "execution_count": null,
      "metadata": {
        "id": "ROhWB12qNyd9"
      },
      "outputs": [],
      "source": [
        "%%capture\n",
        "def get_template_pr_curve(ax, title,fs, baseline=0.5):\n",
        "    ax.set_title(title, fontsize=fs)\n",
        "    ax.set_xlim([-0.01, 1.01])\n",
        "    ax.set_ylim([-0.01, 1.01])\n",
        "    \n",
        "    ax.set_xlabel('Recall (True Positive Rate)', fontsize=fs)\n",
        "    ax.set_ylabel('Precision', fontsize=fs)\n",
        "    \n",
        "    ax.plot([0, 1], [baseline, baseline],'r--',label='AUC PR Random = {0:0.3f}'.format(baseline))"
      ]
    },
    {
      "cell_type": "code",
      "execution_count": null,
      "metadata": {
        "id": "mQvhX-VyNTp1"
      },
      "outputs": [],
      "source": [
        "%%capture\n",
        "pr_curve, ax = plt.subplots(1, 1, figsize=(7,6))\n",
        "cmap = plt.get_cmap('jet')\n",
        "colors={'Logistic regression':cmap(0),\n",
        "        'Decision tree':cmap(250),\n",
        "        'Random forest':cmap(70),\n",
        "        'XGBoost':cmap(40)}\n",
        "\n",
        "get_template_pr_curve(ax, \"Precision Recall (PR) Curve\\nTest data\",fs=15,baseline=sum(y_test)/len(y_test))\n",
        "    \n",
        "for classifier_name in classifiers_dictionary:\n",
        "    \n",
        "    model_and_predictions=fitted_models_and_predictions_dictionary[classifier_name]\n",
        "\n",
        "    precision, recall, threshold = metrics.precision_recall_curve(y_test, model_and_predictions['predictions_test'])\n",
        "    precision=precision[::-1]\n",
        "    recall=recall[::-1]\n",
        "    \n",
        "    AP = metrics.average_precision_score(y_test, model_and_predictions['predictions_test'])\n",
        "    \n",
        "    ax.step(recall, precision, 'b', color=colors[classifier_name], label = 'AUC PR {0}= {1:0.3f}'.format(classifier_name,AP))\n",
        "    #ax.legend(loc = 'upper left',bbox_to_anchor=(1.05, 1))\n",
        "    ax.legend(loc = 'best')   \n",
        "    \n",
        "plt.subplots_adjust(wspace=0.5, hspace=0.8)"
      ]
    },
    {
      "cell_type": "code",
      "execution_count": null,
      "metadata": {
        "colab": {
          "base_uri": "https://localhost:8080/",
          "height": 428
        },
        "id": "0n80PyciOvNg",
        "outputId": "5c5ad0bd-4ebe-4fce-bf86-b327a09830e8"
      },
      "outputs": [
        {
          "output_type": "execute_result",
          "data": {
            "text/plain": [
              "<Figure size 504x432 with 1 Axes>"
            ],
            "image/png": "[encoded data removed]"
          },
          "metadata": {},
          "execution_count": 19
        }
      ],
      "source": [
        "pr_curve"
      ]
    },
    {
      "cell_type": "code",
      "source": [],
      "metadata": {
        "id": "t78r5NI1LiXO"
      },
      "execution_count": null,
      "outputs": []
    }
  ],
  "metadata": {
    "colab": {
      "provenance": [],
      "collapsed_sections": [],
      "authorship_tag": "ABX9TyO0FRkHu3J6v9qn0YH5lzgO",
      "include_colab_link": true
    },
    "kernelspec": {
      "display_name": "Python 3",
      "name": "python3"
    },
    "language_info": {
      "name": "python"
    }
  },
  "nbformat": 4,
  "nbformat_minor": 0
}
